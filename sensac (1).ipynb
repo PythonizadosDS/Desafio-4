{
 "cells": [
  {
   "cell_type": "code",
   "execution_count": 106,
   "metadata": {},
   "outputs": [],
   "source": [
    "from urllib.request import urlopen\n",
    "from bs4 import BeautifulSoup\n",
    "import re\n",
    "from urllib.request import urlopen\n",
    "import requests\n",
    "from bs4 import BeautifulSoup\n",
    "import numpy as np"
   ]
  },
  {
   "cell_type": "markdown",
   "metadata": {},
   "source": [
    "## Inicio"
   ]
  },
  {
   "cell_type": "code",
   "execution_count": 110,
   "metadata": {},
   "outputs": [],
   "source": [
    "url_principal=\"http://www.sensacine.com\"\n",
    "def url_obt(x):\n",
    "    try :\n",
    "        y = url_principal+x.find('a').attrs['href']\n",
    "    except :\n",
    "        y = 'No hay'\n",
    "    return y"
   ]
  },
  {
   "cell_type": "code",
   "execution_count": 111,
   "metadata": {
    "scrolled": true
   },
   "outputs": [],
   "source": [
    "urls=[]\n",
    "for i in range(1,321):  \n",
    "    url_tv = \"http://www.sensacine.com/series-tv/?page={}\".format(i)\n",
    "    resp = requests.get(url_tv)\n",
    "    soup = BeautifulSoup(resp.text, 'html.parser')\n",
    "    lista_series = soup.find_all('li',{'class':'hred'})\n",
    "    urls.extend(list(map(url_obt,lista_series)))\n",
    "#eliminar los no hay\n",
    "urls_array=np.array(urls)#4799\n",
    "urls_array_t = urls_array[urls_array!='No hay']\n",
    "urls=urls_array_t.tolist()#4797"
   ]
  },
  {
   "cell_type": "markdown",
   "metadata": {},
   "source": [
    "#### Scrappear cada pagina"
   ]
  },
  {
   "cell_type": "code",
   "execution_count": 292,
   "metadata": {},
   "outputs": [],
   "source": [
    "data_list = []\n",
    "for i in urls:\n",
    "    resp = requests.get(i)\n",
    "    soup = BeautifulSoup(resp.text, 'lxml')\n",
    "    tags_genero=soup.find('div',{'class':'meta-body-item serie-genre'}).find_all('div')\n",
    "    try :\n",
    "        sinopsis=soup.find('div',{'class':\"content-txt\"}).text\n",
    "    except :\n",
    "        continue\n",
    "    genero_list = list(map(lambda x : x.text,tags_genero))\n",
    "    genero=str(genero_list).replace(\"'\",\"\").replace(\"[\",\"\").replace(\"]\",\"\")\n",
    "    fila = [soup.find('div',{'class':\"titlebar-title titlebar-title-lg\"}).text,\n",
    "            sinopsis,\n",
    "            genero]\n",
    "    data_list.append(fila)"
   ]
  },
  {
   "cell_type": "code",
   "execution_count": 247,
   "metadata": {},
   "outputs": [],
   "source": [
    "import pandas as pd"
   ]
  },
  {
   "cell_type": "code",
   "execution_count": 293,
   "metadata": {
    "scrolled": true
   },
   "outputs": [],
   "source": [
    "tabla_series_tv=pd.DataFrame(data_list,columns=['Titulo','Sinopsis','Genero'])"
   ]
  },
  {
   "cell_type": "code",
   "execution_count": 297,
   "metadata": {},
   "outputs": [],
   "source": [
    "tabla_series_tv.to_csv(\"tablas_series_tv.csv\",sep=\";\")"
   ]
  },
  {
   "cell_type": "code",
   "execution_count": 300,
   "metadata": {
    "scrolled": true
   },
   "outputs": [
    {
     "data": {
      "text/html": [
       "<div>\n",
       "<style scoped>\n",
       "    .dataframe tbody tr th:only-of-type {\n",
       "        vertical-align: middle;\n",
       "    }\n",
       "\n",
       "    .dataframe tbody tr th {\n",
       "        vertical-align: top;\n",
       "    }\n",
       "\n",
       "    .dataframe thead th {\n",
       "        text-align: right;\n",
       "    }\n",
       "</style>\n",
       "<table border=\"1\" class=\"dataframe\">\n",
       "  <thead>\n",
       "    <tr style=\"text-align: right;\">\n",
       "      <th></th>\n",
       "      <th>Titulo</th>\n",
       "      <th>Sinopsis</th>\n",
       "      <th>Genero</th>\n",
       "    </tr>\n",
       "  </thead>\n",
       "  <tbody>\n",
       "    <tr>\n",
       "      <th>0</th>\n",
       "      <td>Vis A Vis</td>\n",
       "      <td>\\nVis a vis es una producción de Globomedia pa...</td>\n",
       "      <td>Drama, Suspense</td>\n",
       "    </tr>\n",
       "    <tr>\n",
       "      <th>1</th>\n",
       "      <td>The Good Doctor</td>\n",
       "      <td>\\nThe Good Doctor se centra en un joven y bril...</td>\n",
       "      <td>Drama, Médico</td>\n",
       "    </tr>\n",
       "    <tr>\n",
       "      <th>2</th>\n",
       "      <td>Los 100</td>\n",
       "      <td>\\n'Los 100' es un drama post apocalíptico escr...</td>\n",
       "      <td>Aventura, Drama, Ciencia ficción</td>\n",
       "    </tr>\n",
       "    <tr>\n",
       "      <th>3</th>\n",
       "      <td>Riverdale</td>\n",
       "      <td>\\n    \\n              Al mismo tiempo que un n...</td>\n",
       "      <td>Drama, Suspense</td>\n",
       "    </tr>\n",
       "    <tr>\n",
       "      <th>4</th>\n",
       "      <td>Vikingos</td>\n",
       "      <td>\\nEste nuevo drama histórico, dirigido por Mic...</td>\n",
       "      <td>Aventura, Drama, Histórico</td>\n",
       "    </tr>\n",
       "    <tr>\n",
       "      <th>5</th>\n",
       "      <td>Lucifer</td>\n",
       "      <td>\\n    \\n              La historia de Lucifer e...</td>\n",
       "      <td>Drama, Fantasía, Crimen</td>\n",
       "    </tr>\n",
       "    <tr>\n",
       "      <th>6</th>\n",
       "      <td>Anatomía de Grey</td>\n",
       "      <td>\\n    \\n              Meredith Grey (Ellen Pom...</td>\n",
       "      <td>Drama, Médico</td>\n",
       "    </tr>\n",
       "    <tr>\n",
       "      <th>7</th>\n",
       "      <td>The Walking Dead</td>\n",
       "      <td>\\n    \\n              La historia nos traslada...</td>\n",
       "      <td>Drama, Terror</td>\n",
       "    </tr>\n",
       "    <tr>\n",
       "      <th>8</th>\n",
       "      <td>Siren</td>\n",
       "      <td>\\n    \\n              Una joven misteriosa lla...</td>\n",
       "      <td>Drama, Fantasía</td>\n",
       "    </tr>\n",
       "    <tr>\n",
       "      <th>9</th>\n",
       "      <td>Juego de Tronos</td>\n",
       "      <td>\\n    \\n              HBO, desde la calidad qu...</td>\n",
       "      <td>Drama, Fantasía</td>\n",
       "    </tr>\n",
       "  </tbody>\n",
       "</table>\n",
       "</div>"
      ],
      "text/plain": [
       "             Titulo                                           Sinopsis  \\\n",
       "0         Vis A Vis  \\nVis a vis es una producción de Globomedia pa...   \n",
       "1   The Good Doctor  \\nThe Good Doctor se centra en un joven y bril...   \n",
       "2           Los 100  \\n'Los 100' es un drama post apocalíptico escr...   \n",
       "3         Riverdale  \\n    \\n              Al mismo tiempo que un n...   \n",
       "4          Vikingos  \\nEste nuevo drama histórico, dirigido por Mic...   \n",
       "5           Lucifer  \\n    \\n              La historia de Lucifer e...   \n",
       "6  Anatomía de Grey  \\n    \\n              Meredith Grey (Ellen Pom...   \n",
       "7  The Walking Dead  \\n    \\n              La historia nos traslada...   \n",
       "8             Siren  \\n    \\n              Una joven misteriosa lla...   \n",
       "9   Juego de Tronos  \\n    \\n              HBO, desde la calidad qu...   \n",
       "\n",
       "                             Genero  \n",
       "0                   Drama, Suspense  \n",
       "1                     Drama, Médico  \n",
       "2  Aventura, Drama, Ciencia ficción  \n",
       "3                   Drama, Suspense  \n",
       "4        Aventura, Drama, Histórico  \n",
       "5           Drama, Fantasía, Crimen  \n",
       "6                     Drama, Médico  \n",
       "7                     Drama, Terror  \n",
       "8                   Drama, Fantasía  \n",
       "9                   Drama, Fantasía  "
      ]
     },
     "execution_count": 300,
     "metadata": {},
     "output_type": "execute_result"
    }
   ],
   "source": [
    "tabla_series_tv.head(10)"
   ]
  },
  {
   "cell_type": "code",
   "execution_count": null,
   "metadata": {},
   "outputs": [],
   "source": []
  },
  {
   "cell_type": "code",
   "execution_count": null,
   "metadata": {},
   "outputs": [],
   "source": []
  },
  {
   "cell_type": "code",
   "execution_count": null,
   "metadata": {},
   "outputs": [],
   "source": []
  }
 ],
 "metadata": {
  "kernelspec": {
   "display_name": "Python 3",
   "language": "python",
   "name": "python3"
  },
  "language_info": {
   "codemirror_mode": {
    "name": "ipython",
    "version": 3
   },
   "file_extension": ".py",
   "mimetype": "text/x-python",
   "name": "python",
   "nbconvert_exporter": "python",
   "pygments_lexer": "ipython3",
   "version": "3.6.4"
  }
 },
 "nbformat": 4,
 "nbformat_minor": 2
}
